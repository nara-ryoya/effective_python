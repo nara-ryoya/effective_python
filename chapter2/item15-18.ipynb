{
 "cells": [
  {
   "cell_type": "markdown",
   "metadata": {},
   "source": [
    "項目15"
   ]
  },
  {
   "cell_type": "code",
   "execution_count": 8,
   "metadata": {},
   "outputs": [],
   "source": [
    "from collections.abc import MutableMapping\n",
    "import json\n",
    "\n",
    "from typing import Dict, Union"
   ]
  },
  {
   "cell_type": "code",
   "execution_count": 9,
   "metadata": {},
   "outputs": [],
   "source": [
    "votes: Dict[str, int] = {\n",
    "    'otter': 1281,\n",
    "    'polar_bear': 587,\n",
    "    'fox': 863\n",
    "}"
   ]
  },
  {
   "cell_type": "code",
   "execution_count": 2,
   "metadata": {},
   "outputs": [],
   "source": [
    "def populate_ranks(votes, ranks):\n",
    "    names = list(votes.keys())\n",
    "    names.sort(key=votes.get, reverse=True)\n",
    "    for i, name in enumerate(names, 1):\n",
    "        ranks[name] = i\n",
    "\n",
    "def get_winner(ranks):\n",
    "    return next(iter(ranks))"
   ]
  },
  {
   "cell_type": "code",
   "execution_count": 3,
   "metadata": {},
   "outputs": [
    {
     "name": "stdout",
     "output_type": "stream",
     "text": [
      "{'otter': 1, 'fox': 2, 'polar_bear': 3}\n",
      "otter\n"
     ]
    }
   ],
   "source": [
    "ranks = {}\n",
    "populate_ranks(votes, ranks)\n",
    "print(ranks)\n",
    "print(get_winner(ranks))"
   ]
  },
  {
   "cell_type": "code",
   "execution_count": 4,
   "metadata": {},
   "outputs": [],
   "source": [
    "class SortedDict(MutableMapping):\n",
    "    \"\"\"難しそうなことをしているが、要するに英字順で出てくるような辞書を自分で作ってあげようということ\n",
    "    \"\"\"\n",
    "    def __init__(self):\n",
    "        self.data = {}\n",
    "    \n",
    "    def __getitem__(self, key):\n",
    "        return self.data[key]\n",
    "    \n",
    "    def __setitem__(self, key, value):\n",
    "        self.data[key] = value\n",
    "    \n",
    "    def __delitem__(self, key):\n",
    "        del self.data[key]\n",
    "    \n",
    "    def __iter__(self):\n",
    "        keys = list(self.data.keys())\n",
    "        keys.sort()\n",
    "        for key in keys:\n",
    "            yield key\n",
    "    \n",
    "    def __len__(self):\n",
    "        return len(self.data)\n",
    "    \n",
    "    def __repr__(self):\n",
    "        return json.dumps(self.data)"
   ]
  },
  {
   "cell_type": "code",
   "execution_count": 5,
   "metadata": {},
   "outputs": [
    {
     "name": "stdout",
     "output_type": "stream",
     "text": [
      "{\"otter\": 1, \"fox\": 2, \"polar_bear\": 3}\n",
      "fox\n"
     ]
    }
   ],
   "source": [
    "sorted_ranks = SortedDict()\n",
    "populate_ranks(votes, sorted_ranks)\n",
    "print(sorted_ranks)\n",
    "print(get_winner(sorted_ranks))"
   ]
  },
  {
   "cell_type": "markdown",
   "metadata": {},
   "source": [
    "項目16\n",
    "競プロとかで出番が多そう"
   ]
  },
  {
   "cell_type": "code",
   "execution_count": 22,
   "metadata": {},
   "outputs": [],
   "source": [
    "vote_counter = {\n",
    "    \"nara\": 10,\n",
    "    \"nakai\": 50,\n",
    "    \"kusumoto\": 100\n",
    "}"
   ]
  },
  {
   "cell_type": "code",
   "execution_count": 23,
   "metadata": {},
   "outputs": [
    {
     "name": "stdout",
     "output_type": "stream",
     "text": [
      "nara      : 10\n",
      "nakai     : 50\n",
      "kusumoto  : 100\n",
      "egachan   : 0\n"
     ]
    }
   ],
   "source": [
    "people = [\"nara\", \"nakai\", \"kusumoto\", \"egachan\"]\n",
    "for person in people:\n",
    "    val = vote_counter.get(person, 0)\n",
    "    print(f\"{person:<10}: {val}\")\n",
    "    vote_counter[person] = val + 1"
   ]
  },
  {
   "cell_type": "code",
   "execution_count": 24,
   "metadata": {},
   "outputs": [
    {
     "name": "stdout",
     "output_type": "stream",
     "text": [
      "nara      : 11\n",
      "nakai     : 51\n",
      "kusumoto  : 101\n",
      "egachan   : 1\n"
     ]
    }
   ],
   "source": [
    "for p, v in vote_counter.items():\n",
    "    print(f\"{p:<10}: {v}\")"
   ]
  },
  {
   "cell_type": "code",
   "execution_count": 1,
   "metadata": {},
   "outputs": [],
   "source": [
    "votes = {\n",
    "    \"suga\": [\"egachan\", \"nara\", \"kusumoto\"],\n",
    "    \"kishida\": [\"egachan\"]\n",
    "}"
   ]
  },
  {
   "cell_type": "code",
   "execution_count": 2,
   "metadata": {},
   "outputs": [],
   "source": [
    "prime_ministers = [\"suga\", \"kishida\", \"ishiba\"]\n",
    "for pm in prime_ministers:\n",
    "    supporters = votes.setdefault(pm, [])\n",
    "    supporters.append(\"nakai\")\n"
   ]
  },
  {
   "cell_type": "code",
   "execution_count": 5,
   "metadata": {},
   "outputs": [
    {
     "data": {
      "text/plain": [
       "{'suga': ['egachan', 'nara', 'kusumoto', 'nakai'],\n",
       " 'isiba': ['egachan'],\n",
       " 'kishida': ['nakai'],\n",
       " 'ishiba': ['nakai']}"
      ]
     },
     "execution_count": 5,
     "metadata": {},
     "output_type": "execute_result"
    }
   ],
   "source": [
    "votes\n",
    "# 参照渡しになっていることに注意"
   ]
  },
  {
   "cell_type": "markdown",
   "metadata": {},
   "source": [
    "17"
   ]
  },
  {
   "cell_type": "code",
   "execution_count": 4,
   "metadata": {},
   "outputs": [],
   "source": [
    "from collections import defaultdict"
   ]
  },
  {
   "cell_type": "code",
   "execution_count": 27,
   "metadata": {},
   "outputs": [],
   "source": [
    "votes = {\n",
    "    \"nara\": 1000,\n",
    "    \"egachan\": 20,\n",
    "    \"kusumoto\": 5000\n",
    "}"
   ]
  },
  {
   "cell_type": "code",
   "execution_count": 24,
   "metadata": {},
   "outputs": [
    {
     "name": "stdout",
     "output_type": "stream",
     "text": [
      "nara      : 1000\n",
      "egachan   : 20\n",
      "kusumoto  : 5000\n",
      "nakai     : 0\n"
     ]
    }
   ],
   "source": [
    "# setdefaultは名前がややこしい\n",
    "names = [\"nara\", \"egachan\", \"kusumoto\", \"nakai\"]\n",
    "for name in names:\n",
    "    vote = votes.setdefault(name, 0)\n",
    "    print(f\"{name:<10}: {vote}\")"
   ]
  },
  {
   "cell_type": "code",
   "execution_count": 21,
   "metadata": {},
   "outputs": [
    {
     "name": "stdout",
     "output_type": "stream",
     "text": [
      "nara      : 1000\n",
      "egachan   : 20\n",
      "kusumoto  : 5000\n",
      "nakai     : 0\n"
     ]
    }
   ],
   "source": [
    "# defaultdictを使ったやり方、名前がややこしくないのでやりやすい上に、コードが簡潔に書ける\n",
    "votes_dd = defaultdict(int)\n",
    "for name, vote in votes.items():\n",
    "    votes_dd[name] = vote\n",
    "\n",
    "for name in names:\n",
    "    print(f\"{name:<10}: {votes_dd[name]}\")\n"
   ]
  },
  {
   "cell_type": "code",
   "execution_count": 28,
   "metadata": {},
   "outputs": [
    {
     "name": "stdout",
     "output_type": "stream",
     "text": [
      "nara      : 1000\n",
      "egachan   : 20\n",
      "kusumoto  : 5000\n",
      "nakai     : 1\n"
     ]
    }
   ],
   "source": [
    "def return_one():\n",
    "    return 1\n",
    "\n",
    "votes_dd_one = defaultdict(return_one)\n",
    "for name, vote in votes.items():\n",
    "    votes_dd_one[name] = vote\n",
    "\n",
    "for name in names:\n",
    "    print(f\"{name:<10}: {votes_dd_one[name]}\")"
   ]
  },
  {
   "cell_type": "code",
   "execution_count": 17,
   "metadata": {},
   "outputs": [],
   "source": [
    "# defaultdictを隠したクラスとして実装することで便利になる！\n",
    "\n",
    "\"\"\"\n",
    "次のようなデータを管理することを考えたい\n",
    "{\n",
    "    \"Tokyo\": {\"adachi\", \"shinjuku\", \"shibuya\", \"ikebukuro\"},\n",
    "    \"Osaka\": {\"sakai\", \"osaka\", \"nishiosaka\"}\n",
    "}\n",
    "\"\"\"\n",
    "class Cities:\n",
    "    def __init__(self):\n",
    "        self.data = {}\n",
    "    \n",
    "    def add(self, country, city):\n",
    "        \"\"\"ここの部分の動作の挙動が分かりづらい\n",
    "        \"\"\"\n",
    "        city_set = self.data.setdefault(country, set())\n",
    "        city_set.add(city)\n",
    "\n",
    "class Cities:\n",
    "    def __init__(self):\n",
    "        self.data = defaultdict(set)\n",
    "    \n",
    "    def add(self, country, city):\n",
    "        self.data[country].add(city)\n"
   ]
  },
  {
   "cell_type": "code",
   "execution_count": 18,
   "metadata": {},
   "outputs": [
    {
     "name": "stdout",
     "output_type": "stream",
     "text": [
      "{'Tokyo': {'adachi', 'ikebukuro'}, 'Osaka': {'sakai'}}\n"
     ]
    }
   ],
   "source": [
    "cities = Cities()\n",
    "cities.add(\"Tokyo\", \"adachi\")\n",
    "cities.add(\"Tokyo\", \"ikebukuro\")\n",
    "cities.add(\"Osaka\", \"sakai\")\n",
    "print(cities.data)"
   ]
  },
  {
   "cell_type": "markdown",
   "metadata": {},
   "source": [
    "18"
   ]
  },
  {
   "cell_type": "code",
   "execution_count": 32,
   "metadata": {},
   "outputs": [
    {
     "name": "stdout",
     "output_type": "stream",
     "text": [
      "defaultdict(<function adana at 0x7f71ee8573a0>, {'egashira': 'egachan', 'kusumoto': 'kusumocchan'})\n"
     ]
    },
    {
     "ename": "TypeError",
     "evalue": "adana() missing 1 required positional argument: 'name'",
     "output_type": "error",
     "traceback": [
      "\u001b[0;31m---------------------------------------------------------------------------\u001b[0m",
      "\u001b[0;31mTypeError\u001b[0m                                 Traceback (most recent call last)",
      "\u001b[1;32m/src/chapter2/item15-18.ipynb Cell 24'\u001b[0m in \u001b[0;36m<cell line: 10>\u001b[0;34m()\u001b[0m\n\u001b[1;32m      <a href='vscode-notebook-cell://attached-container%2B7b22636f6e7461696e65724e616d65223a222f6566665f707974686f6e227d/src/chapter2/item15-18.ipynb#ch0000025vscode-remote?line=7'>8</a>\u001b[0m adana_dict[\u001b[39m\"\u001b[39m\u001b[39mkusumoto\u001b[39m\u001b[39m\"\u001b[39m] \u001b[39m=\u001b[39m \u001b[39m\"\u001b[39m\u001b[39mkusumocchan\u001b[39m\u001b[39m\"\u001b[39m\n\u001b[1;32m      <a href='vscode-notebook-cell://attached-container%2B7b22636f6e7461696e65724e616d65223a222f6566665f707974686f6e227d/src/chapter2/item15-18.ipynb#ch0000025vscode-remote?line=8'>9</a>\u001b[0m \u001b[39mprint\u001b[39m(adana_dict)\n\u001b[0;32m---> <a href='vscode-notebook-cell://attached-container%2B7b22636f6e7461696e65724e616d65223a222f6566665f707974686f6e227d/src/chapter2/item15-18.ipynb#ch0000025vscode-remote?line=9'>10</a>\u001b[0m \u001b[39mprint\u001b[39m(adana_dict[\u001b[39m\"\u001b[39;49m\u001b[39mnara\u001b[39;49m\u001b[39m\"\u001b[39;49m])\n",
      "\u001b[0;31mTypeError\u001b[0m: adana() missing 1 required positional argument: 'name'"
     ]
    }
   ],
   "source": [
    "# キー依存のデフォルト値を作成したいとき\n",
    "# defaultdictだとエラーを吐いてしまう。引数に何も入らないから(入らないように作られているから)\n",
    "def adana(name):\n",
    "    return name + \"chan\"\n",
    "\n",
    "adana_dict = defaultdict(adana)\n",
    "adana_dict[\"egashira\"] = \"egachan\"\n",
    "adana_dict[\"kusumoto\"] = \"kusumocchan\"\n",
    "print(adana_dict)\n",
    "print(adana_dict[\"nara\"])"
   ]
  },
  {
   "cell_type": "code",
   "execution_count": 33,
   "metadata": {},
   "outputs": [
    {
     "name": "stdout",
     "output_type": "stream",
     "text": [
      "{'egashira': 'egachan', 'kusumoto': 'kusumocchan'}\n",
      "narachan\n"
     ]
    }
   ],
   "source": [
    "class Adana(dict):\n",
    "    def __missing__(self, key):\n",
    "        val = adana(key)\n",
    "        self[key] = val\n",
    "        return val\n",
    "\n",
    "adana_dict = Adana()\n",
    "adana_dict[\"egashira\"] = \"egachan\"\n",
    "adana_dict[\"kusumoto\"] = \"kusumocchan\"\n",
    "print(adana_dict)\n",
    "print(adana_dict[\"nara\"])"
   ]
  },
  {
   "cell_type": "code",
   "execution_count": null,
   "metadata": {},
   "outputs": [],
   "source": []
  }
 ],
 "metadata": {
  "interpreter": {
   "hash": "397704579725e15f5c7cb49fe5f0341eb7531c82d19f2c29d197e8b64ab5776b"
  },
  "kernelspec": {
   "display_name": "Python 3.9.7 64-bit",
   "language": "python",
   "name": "python3"
  },
  "language_info": {
   "codemirror_mode": {
    "name": "ipython",
    "version": 3
   },
   "file_extension": ".py",
   "mimetype": "text/x-python",
   "name": "python",
   "nbconvert_exporter": "python",
   "pygments_lexer": "ipython3",
   "version": "3.8.13"
  },
  "orig_nbformat": 4
 },
 "nbformat": 4,
 "nbformat_minor": 2
}
