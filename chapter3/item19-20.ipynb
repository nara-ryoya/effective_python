{
 "cells": [
  {
   "cell_type": "code",
   "execution_count": 1,
   "metadata": {},
   "outputs": [],
   "source": [
    "from typing import List, Dict, Union"
   ]
  },
  {
   "cell_type": "markdown",
   "metadata": {},
   "source": [
    "19"
   ]
  },
  {
   "cell_type": "code",
   "execution_count": 2,
   "metadata": {},
   "outputs": [
    {
     "name": "stdout",
     "output_type": "stream",
     "text": [
      "lowest: 4\n",
      "highest: 57\n"
     ]
    }
   ],
   "source": [
    "# アンパック構文\n",
    "def get_min_max(l: Union[List[int], List[float]]):\n",
    "    maximum = max(l)\n",
    "    minimum = min(l)\n",
    "    return minimum, maximum\n",
    "\n",
    "\n",
    "scores = [18, 31, 22, 4, 57, 23]\n",
    "lowest, highest = get_min_max(scores)\n",
    "print(f\"lowest: {lowest}\")\n",
    "print(f\"highest: {highest}\")"
   ]
  },
  {
   "cell_type": "code",
   "execution_count": 3,
   "metadata": {},
   "outputs": [
    {
     "name": "stdout",
     "output_type": "stream",
     "text": [
      "lowest: 4\n",
      "middle: [18, 22, 23, 31]\n",
      "highest: 57\n"
     ]
    }
   ],
   "source": [
    "# catch-all アンパック\n",
    "scores = [18, 31, 22, 4, 57, 23]\n",
    "lowest, *middle, highest = sorted(scores)\n",
    "print(f\"lowest: {lowest}\")\n",
    "print(f\"middle: {middle}\")\n",
    "print(f\"highest: {highest}\")"
   ]
  },
  {
   "cell_type": "code",
   "execution_count": 7,
   "metadata": {},
   "outputs": [
    {
     "name": "stdout",
     "output_type": "stream",
     "text": [
      "lowest: 4\n",
      "highest: 57\n",
      "score sum: 155\n",
      "sample number: 6\n",
      "average score: 25.83\n"
     ]
    }
   ],
   "source": [
    "\n",
    "# 4つ以上だと...？\n",
    "def get_stats(l: Union[List[int], List[float]]):\n",
    "    maximum = max(l)\n",
    "    minimum = min(l)\n",
    "    list_sum = sum(l)\n",
    "    count = len(l)\n",
    "    average = list_sum / count\n",
    "    return minimum, maximum, list_sum, count, average\n",
    "\n",
    "scores = [18, 31, 22, 4, 57, 23]\n",
    "# 1行が長くなる、順番を間違える\n",
    "lowest, highest, score_sum, sample_number, average_score = get_stats(scores)\n",
    "print(f\"lowest: {lowest}\")\n",
    "print(f\"highest: {highest}\")\n",
    "print(f\"score sum: {score_sum}\")\n",
    "print(f\"sample number: {sample_number}\")\n",
    "print(f\"average score: {average_score:.2f}\")\n",
    "\n",
    "# get_stats関数は、本来ならば辞書やクラス、namedtupleを使っていくべき"
   ]
  },
  {
   "cell_type": "markdown",
   "metadata": {},
   "source": [
    "20"
   ]
  },
  {
   "cell_type": "code",
   "execution_count": 14,
   "metadata": {},
   "outputs": [],
   "source": [
    "def get_status(status_name: str):\n",
    "    status_dict = {\n",
    "        \"HP\": 100,\n",
    "        \"MP\": 20,\n",
    "        \"ATTACK\": 10.0,\n",
    "        \"DEFEND\": 15.0,\n",
    "        \"INTELLIGENCE\": 0.0\n",
    "    }\n",
    "    try:\n",
    "        return status_dict[status_name]\n",
    "    except KeyError:\n",
    "        return None"
   ]
  },
  {
   "cell_type": "code",
   "execution_count": 20,
   "metadata": {},
   "outputs": [
    {
     "name": "stdout",
     "output_type": "stream",
     "text": [
      "HP: 100\n"
     ]
    }
   ],
   "source": [
    "status_name = \"HP\"\n",
    "status = get_status(status_name)\n",
    "if not status:\n",
    "    print(\"Invalid Status Name\")\n",
    "else:\n",
    "    print(f\"{status_name}: {status}\")"
   ]
  },
  {
   "cell_type": "code",
   "execution_count": 23,
   "metadata": {},
   "outputs": [
    {
     "name": "stdout",
     "output_type": "stream",
     "text": [
      "Invalid Status Name\n"
     ]
    }
   ],
   "source": [
    "# 存在しない値をしていすると、Invalid Status Nameと出力される\n",
    "status_name = \"SPEED\"\n",
    "status = get_status(status_name)\n",
    "if not status:\n",
    "    print(\"Invalid Status Name\")\n",
    "else:\n",
    "    print(f\"{status_name}: {status}\")"
   ]
  },
  {
   "cell_type": "code",
   "execution_count": 24,
   "metadata": {},
   "outputs": [
    {
     "name": "stdout",
     "output_type": "stream",
     "text": [
      "Invalid Status Name\n"
     ]
    }
   ],
   "source": [
    "# INTELLIGENCEはダメなの...?\n",
    "status_name = \"INTELLIGENCE\"\n",
    "status = get_status(status_name)\n",
    "if not status:\n",
    "    print(\"Invalid Status Name\")\n",
    "else:\n",
    "    print(f\"{status_name}: {status}\")"
   ]
  },
  {
   "cell_type": "code",
   "execution_count": 26,
   "metadata": {},
   "outputs": [
    {
     "name": "stdout",
     "output_type": "stream",
     "text": [
      "INTELLIGENCE: 0.0\n"
     ]
    }
   ],
   "source": [
    "# is Noneの構文を用いれば問題ないが...\n",
    "status_name = \"INTELLIGENCE\"\n",
    "status = get_status(status_name)\n",
    "if status is None:\n",
    "    print(\"Invalid Status Name\")\n",
    "else:\n",
    "    print(f\"{status_name}: {status}\")"
   ]
  },
  {
   "cell_type": "code",
   "execution_count": 30,
   "metadata": {},
   "outputs": [
    {
     "name": "stdout",
     "output_type": "stream",
     "text": [
      "INTELLIGENCE: 0.0\n"
     ]
    }
   ],
   "source": [
    "def improved_get_status(status_name: str):\n",
    "    status_dict = {\n",
    "        \"HP\": 100,\n",
    "        \"MP\": 20,\n",
    "        \"ATTACK\": 10.0,\n",
    "        \"DEFEND\": 15.0,\n",
    "        \"INTELLIGENCE\": 0.0\n",
    "    }\n",
    "    try:\n",
    "        return status_dict[status_name]\n",
    "    except KeyError:\n",
    "        raise ValueError('Invalid Status Name')\n",
    "\n",
    "status_name = \"INTELLIGENCE\"\n",
    "status = improved_get_status(status_name)\n",
    "print(f\"{status_name}: {status}\")"
   ]
  },
  {
   "cell_type": "code",
   "execution_count": 31,
   "metadata": {},
   "outputs": [
    {
     "ename": "ValueError",
     "evalue": "Invalid Status Name",
     "output_type": "error",
     "traceback": [
      "\u001b[0;31m---------------------------------------------------------------------------\u001b[0m",
      "\u001b[0;31mKeyError\u001b[0m                                  Traceback (most recent call last)",
      "\u001b[1;32m/src/chapter3/item19.ipynb Cell 12'\u001b[0m in \u001b[0;36mimproved_get_status\u001b[0;34m(status_name)\u001b[0m\n\u001b[1;32m      <a href='vscode-notebook-cell://attached-container%2B7b22636f6e7461696e65724e616d65223a222f6566665f707974686f6e227d/src/chapter3/item19.ipynb#ch0000011vscode-remote?line=8'>9</a>\u001b[0m \u001b[39mtry\u001b[39;00m:\n\u001b[0;32m---> <a href='vscode-notebook-cell://attached-container%2B7b22636f6e7461696e65724e616d65223a222f6566665f707974686f6e227d/src/chapter3/item19.ipynb#ch0000011vscode-remote?line=9'>10</a>\u001b[0m     \u001b[39mreturn\u001b[39;00m status_dict[status_name]\n\u001b[1;32m     <a href='vscode-notebook-cell://attached-container%2B7b22636f6e7461696e65724e616d65223a222f6566665f707974686f6e227d/src/chapter3/item19.ipynb#ch0000011vscode-remote?line=10'>11</a>\u001b[0m \u001b[39mexcept\u001b[39;00m \u001b[39mKeyError\u001b[39;00m:\n",
      "\u001b[0;31mKeyError\u001b[0m: 'SPEED'",
      "\nDuring handling of the above exception, another exception occurred:\n",
      "\u001b[0;31mValueError\u001b[0m                                Traceback (most recent call last)",
      "\u001b[1;32m/src/chapter3/item19.ipynb Cell 13'\u001b[0m in \u001b[0;36m<cell line: 2>\u001b[0;34m()\u001b[0m\n\u001b[1;32m      <a href='vscode-notebook-cell://attached-container%2B7b22636f6e7461696e65724e616d65223a222f6566665f707974686f6e227d/src/chapter3/item19.ipynb#ch0000012vscode-remote?line=0'>1</a>\u001b[0m status_name \u001b[39m=\u001b[39m \u001b[39m\"\u001b[39m\u001b[39mSPEED\u001b[39m\u001b[39m\"\u001b[39m\n\u001b[0;32m----> <a href='vscode-notebook-cell://attached-container%2B7b22636f6e7461696e65724e616d65223a222f6566665f707974686f6e227d/src/chapter3/item19.ipynb#ch0000012vscode-remote?line=1'>2</a>\u001b[0m status \u001b[39m=\u001b[39m improved_get_status(status_name)\n\u001b[1;32m      <a href='vscode-notebook-cell://attached-container%2B7b22636f6e7461696e65724e616d65223a222f6566665f707974686f6e227d/src/chapter3/item19.ipynb#ch0000012vscode-remote?line=2'>3</a>\u001b[0m \u001b[39mprint\u001b[39m(\u001b[39mf\u001b[39m\u001b[39m\"\u001b[39m\u001b[39m{\u001b[39;00mstatus_name\u001b[39m}\u001b[39;00m\u001b[39m: \u001b[39m\u001b[39m{\u001b[39;00mstatus\u001b[39m}\u001b[39;00m\u001b[39m\"\u001b[39m)\n",
      "\u001b[1;32m/src/chapter3/item19.ipynb Cell 12'\u001b[0m in \u001b[0;36mimproved_get_status\u001b[0;34m(status_name)\u001b[0m\n\u001b[1;32m     <a href='vscode-notebook-cell://attached-container%2B7b22636f6e7461696e65724e616d65223a222f6566665f707974686f6e227d/src/chapter3/item19.ipynb#ch0000011vscode-remote?line=9'>10</a>\u001b[0m     \u001b[39mreturn\u001b[39;00m status_dict[status_name]\n\u001b[1;32m     <a href='vscode-notebook-cell://attached-container%2B7b22636f6e7461696e65724e616d65223a222f6566665f707974686f6e227d/src/chapter3/item19.ipynb#ch0000011vscode-remote?line=10'>11</a>\u001b[0m \u001b[39mexcept\u001b[39;00m \u001b[39mKeyError\u001b[39;00m:\n\u001b[0;32m---> <a href='vscode-notebook-cell://attached-container%2B7b22636f6e7461696e65724e616d65223a222f6566665f707974686f6e227d/src/chapter3/item19.ipynb#ch0000011vscode-remote?line=11'>12</a>\u001b[0m     \u001b[39mraise\u001b[39;00m \u001b[39mValueError\u001b[39;00m(\u001b[39m'\u001b[39m\u001b[39mInvalid Status Name\u001b[39m\u001b[39m'\u001b[39m)\n",
      "\u001b[0;31mValueError\u001b[0m: Invalid Status Name"
     ]
    }
   ],
   "source": [
    "status_name = \"SPEED\"\n",
    "status = improved_get_status(status_name)\n",
    "print(f\"{status_name}: {status}\")"
   ]
  },
  {
   "cell_type": "code",
   "execution_count": 32,
   "metadata": {},
   "outputs": [
    {
     "ename": "StatusNotFoundError",
     "evalue": "Invalid Status Name",
     "output_type": "error",
     "traceback": [
      "\u001b[0;31m---------------------------------------------------------------------------\u001b[0m",
      "\u001b[0;31mKeyError\u001b[0m                                  Traceback (most recent call last)",
      "\u001b[1;32m/src/chapter3/item19.ipynb Cell 14'\u001b[0m in \u001b[0;36mimproved_get_status\u001b[0;34m(status_name)\u001b[0m\n\u001b[1;32m     <a href='vscode-notebook-cell://attached-container%2B7b22636f6e7461696e65724e616d65223a222f6566665f707974686f6e227d/src/chapter3/item19.ipynb#ch0000013vscode-remote?line=14'>15</a>\u001b[0m \u001b[39mtry\u001b[39;00m:\n\u001b[0;32m---> <a href='vscode-notebook-cell://attached-container%2B7b22636f6e7461696e65724e616d65223a222f6566665f707974686f6e227d/src/chapter3/item19.ipynb#ch0000013vscode-remote?line=15'>16</a>\u001b[0m     \u001b[39mreturn\u001b[39;00m status_dict[status_name]\n\u001b[1;32m     <a href='vscode-notebook-cell://attached-container%2B7b22636f6e7461696e65724e616d65223a222f6566665f707974686f6e227d/src/chapter3/item19.ipynb#ch0000013vscode-remote?line=16'>17</a>\u001b[0m \u001b[39mexcept\u001b[39;00m \u001b[39mKeyError\u001b[39;00m:\n",
      "\u001b[0;31mKeyError\u001b[0m: 'SPEED'",
      "\nDuring handling of the above exception, another exception occurred:\n",
      "\u001b[0;31mStatusNotFoundError\u001b[0m                       Traceback (most recent call last)",
      "\u001b[1;32m/src/chapter3/item19.ipynb Cell 14'\u001b[0m in \u001b[0;36m<cell line: 21>\u001b[0;34m()\u001b[0m\n\u001b[1;32m     <a href='vscode-notebook-cell://attached-container%2B7b22636f6e7461696e65724e616d65223a222f6566665f707974686f6e227d/src/chapter3/item19.ipynb#ch0000013vscode-remote?line=17'>18</a>\u001b[0m         \u001b[39mraise\u001b[39;00m StatusNotFoundError(\u001b[39m'\u001b[39m\u001b[39mInvalid Status Name\u001b[39m\u001b[39m'\u001b[39m)\n\u001b[1;32m     <a href='vscode-notebook-cell://attached-container%2B7b22636f6e7461696e65724e616d65223a222f6566665f707974686f6e227d/src/chapter3/item19.ipynb#ch0000013vscode-remote?line=19'>20</a>\u001b[0m status_name \u001b[39m=\u001b[39m \u001b[39m\"\u001b[39m\u001b[39mSPEED\u001b[39m\u001b[39m\"\u001b[39m\n\u001b[0;32m---> <a href='vscode-notebook-cell://attached-container%2B7b22636f6e7461696e65724e616d65223a222f6566665f707974686f6e227d/src/chapter3/item19.ipynb#ch0000013vscode-remote?line=20'>21</a>\u001b[0m status \u001b[39m=\u001b[39m improved_get_status(status_name)\n\u001b[1;32m     <a href='vscode-notebook-cell://attached-container%2B7b22636f6e7461696e65724e616d65223a222f6566665f707974686f6e227d/src/chapter3/item19.ipynb#ch0000013vscode-remote?line=21'>22</a>\u001b[0m \u001b[39mprint\u001b[39m(\u001b[39mf\u001b[39m\u001b[39m\"\u001b[39m\u001b[39m{\u001b[39;00mstatus_name\u001b[39m}\u001b[39;00m\u001b[39m: \u001b[39m\u001b[39m{\u001b[39;00mstatus\u001b[39m}\u001b[39;00m\u001b[39m\"\u001b[39m)\n",
      "\u001b[1;32m/src/chapter3/item19.ipynb Cell 14'\u001b[0m in \u001b[0;36mimproved_get_status\u001b[0;34m(status_name)\u001b[0m\n\u001b[1;32m     <a href='vscode-notebook-cell://attached-container%2B7b22636f6e7461696e65724e616d65223a222f6566665f707974686f6e227d/src/chapter3/item19.ipynb#ch0000013vscode-remote?line=15'>16</a>\u001b[0m     \u001b[39mreturn\u001b[39;00m status_dict[status_name]\n\u001b[1;32m     <a href='vscode-notebook-cell://attached-container%2B7b22636f6e7461696e65724e616d65223a222f6566665f707974686f6e227d/src/chapter3/item19.ipynb#ch0000013vscode-remote?line=16'>17</a>\u001b[0m \u001b[39mexcept\u001b[39;00m \u001b[39mKeyError\u001b[39;00m:\n\u001b[0;32m---> <a href='vscode-notebook-cell://attached-container%2B7b22636f6e7461696e65724e616d65223a222f6566665f707974686f6e227d/src/chapter3/item19.ipynb#ch0000013vscode-remote?line=17'>18</a>\u001b[0m     \u001b[39mraise\u001b[39;00m StatusNotFoundError(\u001b[39m'\u001b[39m\u001b[39mInvalid Status Name\u001b[39m\u001b[39m'\u001b[39m)\n",
      "\u001b[0;31mStatusNotFoundError\u001b[0m: Invalid Status Name"
     ]
    }
   ],
   "source": [
    "# 自作のエラーを作る方法も\n",
    "\n",
    "class StatusNotFoundError(Exception):\n",
    "    \"\"\"ステータスが存在しないことを返すための例外処理\"\"\"\n",
    "    pass\n",
    "\n",
    "def improved_get_status(status_name: str):\n",
    "    status_dict = {\n",
    "        \"HP\": 100,\n",
    "        \"MP\": 20,\n",
    "        \"ATTACK\": 10.0,\n",
    "        \"DEFEND\": 15.0,\n",
    "        \"INTELLIGENCE\": 0.0\n",
    "    }\n",
    "    try:\n",
    "        return status_dict[status_name]\n",
    "    except KeyError:\n",
    "        raise StatusNotFoundError('Invalid Status Name')\n",
    "\n",
    "status_name = \"SPEED\"\n",
    "status = improved_get_status(status_name)\n",
    "print(f\"{status_name}: {status}\")"
   ]
  },
  {
   "cell_type": "code",
   "execution_count": null,
   "metadata": {},
   "outputs": [],
   "source": []
  }
 ],
 "metadata": {
  "interpreter": {
   "hash": "949777d72b0d2535278d3dc13498b2535136f6dfe0678499012e853ee9abcab1"
  },
  "kernelspec": {
   "display_name": "Python 3.8.13 64-bit",
   "language": "python",
   "name": "python3"
  },
  "language_info": {
   "codemirror_mode": {
    "name": "ipython",
    "version": 3
   },
   "file_extension": ".py",
   "mimetype": "text/x-python",
   "name": "python",
   "nbconvert_exporter": "python",
   "pygments_lexer": "ipython3",
   "version": "3.8.13"
  },
  "orig_nbformat": 4
 },
 "nbformat": 4,
 "nbformat_minor": 2
}
